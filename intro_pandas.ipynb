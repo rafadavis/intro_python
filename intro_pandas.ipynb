{
 "cells": [
  {
   "cell_type": "markdown",
   "id": "b1d506d1",
   "metadata": {},
   "source": [
    "# Introduction to Pandas\n",
    "\n"
   ]
  },
  {
   "cell_type": "code",
   "execution_count": 3,
   "id": "2cf3b4c7",
   "metadata": {},
   "outputs": [],
   "source": [
    "import pandas as pd\n",
    "import random\n",
    "random.seed(10) # We use a seed to have same results for everyone"
   ]
  },
  {
   "cell_type": "markdown",
   "id": "86a8b942",
   "metadata": {},
   "source": [
    "## Pandas Series"
   ]
  },
  {
   "cell_type": "markdown",
   "id": "66f16bd5",
   "metadata": {},
   "source": [
    "A Series is a one-dimensional array-like objects. It looks a bit like lists, but with more powerful tools. \n",
    "For instance, assuming we have a list of temperatures in Celsius and we would like to convert it to Fahrenheit with the following formula: \n",
    "`°F = (°C × 9/5) + 32` "
   ]
  },
  {
   "cell_type": "code",
   "execution_count": 4,
   "id": "f0bcc3c9",
   "metadata": {},
   "outputs": [
    {
     "name": "stdout",
     "output_type": "stream",
     "text": [
      "[16, -18, 7, 10, 16, -20, -7, 9, 32, 11, 32, -3, 21, 31, -10, -18, 13, 11, 0, -16]\n"
     ]
    }
   ],
   "source": [
    "temps_cs = [random.randint(-20, 40) for i in range(20)]\n",
    "print(temps_cs)"
   ]
  },
  {
   "cell_type": "code",
   "execution_count": 5,
   "id": "05c7e727",
   "metadata": {},
   "outputs": [],
   "source": [
    "#temps_fahr = (temps_cs * 9 / 5) + 32\n",
    "# I commented the line above because otherwise Jupyter notebook will prevent me from using the 'Run All cells' option."
   ]
  },
  {
   "cell_type": "markdown",
   "id": "aa181879",
   "metadata": {},
   "source": [
    "As you can see, the above line did not work. If we want to run this kind of operation for elements in a list, we need to use for loops or list comprehensions. "
   ]
  },
  {
   "cell_type": "code",
   "execution_count": 6,
   "id": "c9f67a59",
   "metadata": {},
   "outputs": [
    {
     "name": "stdout",
     "output_type": "stream",
     "text": [
      "[60.8, -0.3999999999999986, 44.6, 50.0, 60.8, -4.0, 19.4, 48.2, 89.6, 51.8, 89.6, 26.6, 69.8, 87.8, 14.0, -0.3999999999999986, 55.4, 51.8, 32.0, 3.1999999999999993]\n"
     ]
    }
   ],
   "source": [
    "temps_fahr = [(temp * 9 / 5) + 32 for temp in temps_cs]\n",
    "print(temps_fahr)"
   ]
  },
  {
   "cell_type": "markdown",
   "id": "88907a0f",
   "metadata": {},
   "source": [
    "Pandas Series, on the other hand, do allow us to make direct operations to each item. Let's create a pandas object based on temps_cs:"
   ]
  },
  {
   "cell_type": "code",
   "execution_count": 7,
   "id": "82805882",
   "metadata": {},
   "outputs": [],
   "source": [
    "temps_cs_s = pd.Series(temps_cs)\n"
   ]
  },
  {
   "cell_type": "code",
   "execution_count": 8,
   "id": "bf7977aa",
   "metadata": {},
   "outputs": [],
   "source": [
    "temps_fahr_s = (temps_cs_s * 9 / 5) + 32"
   ]
  },
  {
   "cell_type": "code",
   "execution_count": 9,
   "id": "c4daef91",
   "metadata": {},
   "outputs": [
    {
     "data": {
      "text/plain": [
       "array([60.8, -0.4, 44.6, 50. , 60.8, -4. , 19.4, 48.2, 89.6, 51.8, 89.6,\n",
       "       26.6, 69.8, 87.8, 14. , -0.4, 55.4, 51.8, 32. ,  3.2])"
      ]
     },
     "execution_count": 9,
     "metadata": {},
     "output_type": "execute_result"
    }
   ],
   "source": [
    "temps_fahr_s.values"
   ]
  },
  {
   "cell_type": "markdown",
   "id": "47be8010",
   "metadata": {},
   "source": [
    "Notice how the Pandas Series rounds the numbers by default, giving us a better view."
   ]
  },
  {
   "cell_type": "markdown",
   "id": "8b4da594",
   "metadata": {},
   "source": [
    "## Example: Student Grades"
   ]
  },
  {
   "cell_type": "code",
   "execution_count": 10,
   "id": "a2d889b1",
   "metadata": {},
   "outputs": [
    {
     "name": "stdout",
     "output_type": "stream",
     "text": [
      "[5, 9, 6, 4, 7, 10, 5, 8, 6, 7, 7, 6, 10, 9, 6, 7, 5, 9, 6, 9, 6, 5, 7, 10, 10, 5, 7, 8, 7, 4, 8, 4, 5, 5, 5, 6, 8, 6, 10, 5]\n"
     ]
    }
   ],
   "source": [
    "grades = [random.randint(4, 10) for i in range(40)]\n",
    "print(grades)"
   ]
  },
  {
   "cell_type": "code",
   "execution_count": 11,
   "id": "d28fcc7a",
   "metadata": {},
   "outputs": [
    {
     "name": "stdout",
     "output_type": "stream",
     "text": [
      "0      5\n",
      "1      9\n",
      "2      6\n",
      "3      4\n",
      "4      7\n",
      "5     10\n",
      "6      5\n",
      "7      8\n",
      "8      6\n",
      "9      7\n",
      "10     7\n",
      "11     6\n",
      "12    10\n",
      "13     9\n",
      "14     6\n",
      "15     7\n",
      "16     5\n",
      "17     9\n",
      "18     6\n",
      "19     9\n",
      "20     6\n",
      "21     5\n",
      "22     7\n",
      "23    10\n",
      "24    10\n",
      "25     5\n",
      "26     7\n",
      "27     8\n",
      "28     7\n",
      "29     4\n",
      "30     8\n",
      "31     4\n",
      "32     5\n",
      "33     5\n",
      "34     5\n",
      "35     6\n",
      "36     8\n",
      "37     6\n",
      "38    10\n",
      "39     5\n",
      "dtype: int64\n"
     ]
    }
   ],
   "source": [
    "grades = pd.Series(grades)\n",
    "print(grades)"
   ]
  },
  {
   "cell_type": "markdown",
   "id": "089c8368",
   "metadata": {},
   "source": [
    "Notice how it displays both the values and the index of each value, along with information about the type of the values. If we want to print only the values, we can use `Series.values`.\n",
    "To see the index, `Series.index`"
   ]
  },
  {
   "cell_type": "code",
   "execution_count": 12,
   "id": "be38ea99",
   "metadata": {},
   "outputs": [
    {
     "name": "stdout",
     "output_type": "stream",
     "text": [
      "[ 5  9  6  4  7 10  5  8  6  7  7  6 10  9  6  7  5  9  6  9  6  5  7 10\n",
      " 10  5  7  8  7  4  8  4  5  5  5  6  8  6 10  5]\n"
     ]
    }
   ],
   "source": [
    "print(grades.values)"
   ]
  },
  {
   "cell_type": "code",
   "execution_count": 13,
   "id": "d491cb1f",
   "metadata": {},
   "outputs": [
    {
     "name": "stdout",
     "output_type": "stream",
     "text": [
      "RangeIndex(start=0, stop=40, step=1)\n"
     ]
    }
   ],
   "source": [
    "print(grades.index)"
   ]
  },
  {
   "cell_type": "markdown",
   "id": "79064f2a",
   "metadata": {},
   "source": [
    "## Indexing"
   ]
  },
  {
   "cell_type": "markdown",
   "id": "a066c496",
   "metadata": {},
   "source": [
    "The default for indexing is fine and makes sense, but it is not always the best option so will change it in a bit."
   ]
  },
  {
   "cell_type": "code",
   "execution_count": 14,
   "id": "537404c6",
   "metadata": {},
   "outputs": [
    {
     "data": {
      "text/plain": [
       "38    10\n",
       "5     10\n",
       "24    10\n",
       "23    10\n",
       "12    10\n",
       "1      9\n",
       "13     9\n",
       "19     9\n",
       "17     9\n",
       "30     8\n",
       "36     8\n",
       "27     8\n",
       "7      8\n",
       "28     7\n",
       "26     7\n",
       "22     7\n",
       "15     7\n",
       "10     7\n",
       "9      7\n",
       "4      7\n",
       "18     6\n",
       "14     6\n",
       "11     6\n",
       "35     6\n",
       "8      6\n",
       "37     6\n",
       "2      6\n",
       "20     6\n",
       "32     5\n",
       "34     5\n",
       "33     5\n",
       "0      5\n",
       "25     5\n",
       "21     5\n",
       "16     5\n",
       "6      5\n",
       "39     5\n",
       "31     4\n",
       "29     4\n",
       "3      4\n",
       "dtype: int64"
      ]
     },
     "execution_count": 14,
     "metadata": {},
     "output_type": "execute_result"
    }
   ],
   "source": [
    "grades.sort_values(ascending=False)"
   ]
  },
  {
   "cell_type": "code",
   "execution_count": 19,
   "id": "387e4ef4",
   "metadata": {},
   "outputs": [
    {
     "name": "stdout",
     "output_type": "stream",
     "text": [
      "['Lara', 'Calderon', 'Preston', 'Steele', 'Kramer', 'Mccormick', 'Rasmussen', 'Myers', 'Buckley', 'Solis', 'Haynes', 'Crawford', 'Rose', 'Baker', 'Mosley', 'Lin', 'Johnson', 'Russo', 'Mann', 'Ramirez', 'Munoz', 'Cunningham', 'Marks', 'David', 'Schmitt', 'Carlson', 'Mckenzie', 'Levy', 'Knight', 'Zuniga', 'Francis', 'Sutton', 'Holder', 'Carter', 'Vincent', 'Carroll', 'Frost', 'Henry', 'Archer', 'Porter']\n"
     ]
    }
   ],
   "source": [
    "students = [\"Lara\", \"Calderon\", \"Preston\", \"Steele\", \"Kramer\", \"Mccormick\", \"Rasmussen\", \"Myers\", \"Buckley\", \"Solis\", \"Haynes\", \"Crawford\", \"Rose\", \"Baker\", \"Mosley\", \"Lin\", \"Johnson\", \"Russo\", \"Mann\", \"Ramirez\", \"Munoz\", \"Cunningham\", \"Marks\", \"David\", \"Schmitt\", \"Carlson\", \"Mckenzie\", \"Levy\", \"Knight\", \"Zuniga\", \"Francis\", \"Sutton\", \"Holder\", \"Carter\", \"Vincent\", \"Carroll\", \"Frost\", \"Henry\", \"Archer\", \"Porter\"]\n",
    "print(students)\n"
   ]
  },
  {
   "cell_type": "code",
   "execution_count": 20,
   "id": "82ad3c08",
   "metadata": {},
   "outputs": [
    {
     "data": {
      "text/plain": [
       "Lara           5\n",
       "Calderon       9\n",
       "Preston        6\n",
       "Steele         4\n",
       "Kramer         7\n",
       "Mccormick     10\n",
       "Rasmussen      5\n",
       "Myers          8\n",
       "Buckley        6\n",
       "Solis          7\n",
       "Haynes         7\n",
       "Crawford       6\n",
       "Rose          10\n",
       "Baker          9\n",
       "Mosley         6\n",
       "Lin            7\n",
       "Johnson        5\n",
       "Russo          9\n",
       "Mann           6\n",
       "Ramirez        9\n",
       "Munoz          6\n",
       "Cunningham     5\n",
       "Marks          7\n",
       "David         10\n",
       "Schmitt       10\n",
       "Carlson        5\n",
       "Mckenzie       7\n",
       "Levy           8\n",
       "Knight         7\n",
       "Zuniga         4\n",
       "Francis        8\n",
       "Sutton         4\n",
       "Holder         5\n",
       "Carter         5\n",
       "Vincent        5\n",
       "Carroll        6\n",
       "Frost          8\n",
       "Henry          6\n",
       "Archer        10\n",
       "Porter         5\n",
       "dtype: int64"
      ]
     },
     "execution_count": 20,
     "metadata": {},
     "output_type": "execute_result"
    }
   ],
   "source": [
    "grades.index = students\n",
    "grades"
   ]
  },
  {
   "cell_type": "code",
   "execution_count": 21,
   "id": "0466f954",
   "metadata": {},
   "outputs": [
    {
     "data": {
      "text/plain": [
       "Archer        10\n",
       "Mccormick     10\n",
       "Schmitt       10\n",
       "David         10\n",
       "Rose          10\n",
       "Calderon       9\n",
       "Baker          9\n",
       "Ramirez        9\n",
       "Russo          9\n",
       "Francis        8\n",
       "Frost          8\n",
       "Levy           8\n",
       "Myers          8\n",
       "Knight         7\n",
       "Mckenzie       7\n",
       "Marks          7\n",
       "Lin            7\n",
       "Haynes         7\n",
       "Solis          7\n",
       "Kramer         7\n",
       "Mann           6\n",
       "Mosley         6\n",
       "Crawford       6\n",
       "Carroll        6\n",
       "Buckley        6\n",
       "Henry          6\n",
       "Preston        6\n",
       "Munoz          6\n",
       "Holder         5\n",
       "Vincent        5\n",
       "Carter         5\n",
       "Lara           5\n",
       "Carlson        5\n",
       "Cunningham     5\n",
       "Johnson        5\n",
       "Rasmussen      5\n",
       "Porter         5\n",
       "Sutton         4\n",
       "Zuniga         4\n",
       "Steele         4\n",
       "dtype: int64"
      ]
     },
     "execution_count": 21,
     "metadata": {},
     "output_type": "execute_result"
    }
   ],
   "source": [
    "grades.sort_values(ascending=False)"
   ]
  },
  {
   "cell_type": "markdown",
   "id": "bc0592df",
   "metadata": {},
   "source": [
    "Much easier to see what you want to see, right? Also, you can always access the specific information by index:"
   ]
  },
  {
   "cell_type": "code",
   "execution_count": 22,
   "id": "f4035243",
   "metadata": {},
   "outputs": [
    {
     "data": {
      "text/plain": [
       "5"
      ]
     },
     "execution_count": 22,
     "metadata": {},
     "output_type": "execute_result"
    }
   ],
   "source": [
    "grades['Porter']"
   ]
  },
  {
   "cell_type": "markdown",
   "id": "0383c5b0",
   "metadata": {},
   "source": [
    "You can still use number indexes like we do on lists:"
   ]
  },
  {
   "cell_type": "code",
   "execution_count": 23,
   "id": "f531e3d7",
   "metadata": {},
   "outputs": [
    {
     "name": "stdout",
     "output_type": "stream",
     "text": [
      "5\n",
      "5\n",
      "Steele        4\n",
      "Kramer        7\n",
      "Mccormick    10\n",
      "dtype: int64\n"
     ]
    }
   ],
   "source": [
    "print(grades[0])\n",
    "print(grades[-1])\n",
    "print(grades[3:6]) #Notice how slices print both the value and the index"
   ]
  },
  {
   "cell_type": "markdown",
   "id": "dfab0724",
   "metadata": {},
   "source": [
    "You can also check and see if an specific index is there:"
   ]
  },
  {
   "cell_type": "code",
   "execution_count": 24,
   "id": "ee97678e",
   "metadata": {},
   "outputs": [
    {
     "name": "stdout",
     "output_type": "stream",
     "text": [
      "False\n",
      "True\n"
     ]
    }
   ],
   "source": [
    "print('Ross' in grades)\n",
    "print('Lara' in grades)"
   ]
  },
  {
   "cell_type": "markdown",
   "id": "5e9e3409",
   "metadata": {},
   "source": [
    "To check the value you need to use the method `Series.isin()` as a condition, theme of the next topic"
   ]
  },
  {
   "cell_type": "markdown",
   "id": "9b739c96",
   "metadata": {},
   "source": [
    "## Filtering data "
   ]
  },
  {
   "cell_type": "code",
   "execution_count": 25,
   "id": "2df7cd8f",
   "metadata": {},
   "outputs": [
    {
     "data": {
      "text/plain": [
       "Lara          False\n",
       "Calderon       True\n",
       "Preston       False\n",
       "Steele        False\n",
       "Kramer        False\n",
       "Mccormick      True\n",
       "Rasmussen     False\n",
       "Myers          True\n",
       "Buckley       False\n",
       "Solis         False\n",
       "Haynes        False\n",
       "Crawford      False\n",
       "Rose           True\n",
       "Baker          True\n",
       "Mosley        False\n",
       "Lin           False\n",
       "Johnson       False\n",
       "Russo          True\n",
       "Mann          False\n",
       "Ramirez        True\n",
       "Munoz         False\n",
       "Cunningham    False\n",
       "Marks         False\n",
       "David          True\n",
       "Schmitt        True\n",
       "Carlson       False\n",
       "Mckenzie      False\n",
       "Levy           True\n",
       "Knight        False\n",
       "Zuniga        False\n",
       "Francis        True\n",
       "Sutton        False\n",
       "Holder        False\n",
       "Carter        False\n",
       "Vincent       False\n",
       "Carroll       False\n",
       "Frost          True\n",
       "Henry         False\n",
       "Archer         True\n",
       "Porter        False\n",
       "dtype: bool"
      ]
     },
     "execution_count": 25,
     "metadata": {},
     "output_type": "execute_result"
    }
   ],
   "source": [
    "grades > 7"
   ]
  },
  {
   "cell_type": "code",
   "execution_count": 26,
   "id": "3f418934",
   "metadata": {},
   "outputs": [
    {
     "data": {
      "text/plain": [
       "Calderon      9\n",
       "Mccormick    10\n",
       "Myers         8\n",
       "Rose         10\n",
       "Baker         9\n",
       "Russo         9\n",
       "Ramirez       9\n",
       "David        10\n",
       "Schmitt      10\n",
       "Levy          8\n",
       "Francis       8\n",
       "Frost         8\n",
       "Archer       10\n",
       "dtype: int64"
      ]
     },
     "execution_count": 26,
     "metadata": {},
     "output_type": "execute_result"
    }
   ],
   "source": [
    "condition = grades > 7\n",
    "grades[condition]"
   ]
  },
  {
   "cell_type": "markdown",
   "id": "af46af0d",
   "metadata": {},
   "source": [
    "Now we only see the values (and their indexes) that met the desired condition. \n",
    "Notice that there's no need to create the `condition` variable. You could just run it in just one line.\n",
    "`grades[grades > 7]`\n",
    "\n",
    "I personally prefer to store in a variable when the condition is more complex, you do it as you please."
   ]
  },
  {
   "cell_type": "code",
   "execution_count": 27,
   "id": "767b9318",
   "metadata": {},
   "outputs": [
    {
     "data": {
      "text/plain": [
       "Calderon      9\n",
       "Mccormick    10\n",
       "Myers         8\n",
       "Rose         10\n",
       "Baker         9\n",
       "Russo         9\n",
       "Ramirez       9\n",
       "David        10\n",
       "Schmitt      10\n",
       "Levy          8\n",
       "Francis       8\n",
       "Frost         8\n",
       "Archer       10\n",
       "dtype: int64"
      ]
     },
     "execution_count": 27,
     "metadata": {},
     "output_type": "execute_result"
    }
   ],
   "source": [
    "grades[grades > 7]"
   ]
  },
  {
   "cell_type": "markdown",
   "id": "68a13120",
   "metadata": {},
   "source": [
    "For multiple conditions, pandas don't work with the traditional `and` and `or`. In their place, you need to use `&`, `|` respectively. Also notice that you must wrap each condition inside a parenthesis."
   ]
  },
  {
   "cell_type": "code",
   "execution_count": 28,
   "id": "d6ef0904",
   "metadata": {},
   "outputs": [
    {
     "data": {
      "text/plain": [
       "Calderon    9\n",
       "Kramer      7\n",
       "Myers       8\n",
       "Solis       7\n",
       "Haynes      7\n",
       "Baker       9\n",
       "Lin         7\n",
       "Russo       9\n",
       "Ramirez     9\n",
       "Marks       7\n",
       "Mckenzie    7\n",
       "Levy        8\n",
       "Knight      7\n",
       "Francis     8\n",
       "Frost       8\n",
       "dtype: int64"
      ]
     },
     "execution_count": 28,
     "metadata": {},
     "output_type": "execute_result"
    }
   ],
   "source": [
    "condition_2 = (grades > 6) & (grades < 10) \n",
    "grades[condition_2]"
   ]
  },
  {
   "cell_type": "code",
   "execution_count": 24,
   "id": "12b9f020",
   "metadata": {},
   "outputs": [
    {
     "data": {
      "text/plain": [
       "Willie     5\n",
       "Louise     9\n",
       "Christa    4\n",
       "Peter      5\n",
       "Skye       9\n",
       "Ross       5\n",
       "Lois       9\n",
       "Greg       9\n",
       "Kathryn    5\n",
       "Bonnie     5\n",
       "Sylvia     4\n",
       "Maureen    4\n",
       "Karen      5\n",
       "Carrie     5\n",
       "Maxine     5\n",
       "William    5\n",
       "dtype: int64"
      ]
     },
     "execution_count": 24,
     "metadata": {},
     "output_type": "execute_result"
    }
   ],
   "source": [
    "condition_3 = (grades < 6) | (grades > 8) & (grades != 10)\n",
    "grades[condition_3]"
   ]
  },
  {
   "cell_type": "markdown",
   "id": "ed6c9e4e",
   "metadata": {},
   "source": [
    "Remember `.isin()`?"
   ]
  },
  {
   "cell_type": "code",
   "execution_count": 29,
   "id": "b90b8ac1",
   "metadata": {},
   "outputs": [
    {
     "data": {
      "text/plain": [
       "Calderon    9\n",
       "Baker       9\n",
       "Russo       9\n",
       "Ramirez     9\n",
       "dtype: int64"
      ]
     },
     "execution_count": 29,
     "metadata": {},
     "output_type": "execute_result"
    }
   ],
   "source": [
    "condition_4 = grades.isin([9])\n",
    "grades[condition_4]"
   ]
  },
  {
   "cell_type": "markdown",
   "id": "2d0f1bcd",
   "metadata": {},
   "source": [
    "You may complain that it would be easier to create a condition in the patters of the ones above. Something like:\n",
    "`condition_4 = grades == 9`.\n",
    "And you would be right.\n",
    "\n",
    "However, `isin` is really handy when you need to use multiple values.\n",
    "So, instead of running `condition_5 = (grades == 4) | (grades == 5) | (grades == 9)`, we can simply do:"
   ]
  },
  {
   "cell_type": "code",
   "execution_count": 30,
   "id": "796fc418",
   "metadata": {},
   "outputs": [
    {
     "data": {
      "text/plain": [
       "Lara          5\n",
       "Calderon      9\n",
       "Steele        4\n",
       "Rasmussen     5\n",
       "Baker         9\n",
       "Johnson       5\n",
       "Russo         9\n",
       "Ramirez       9\n",
       "Cunningham    5\n",
       "Carlson       5\n",
       "Zuniga        4\n",
       "Sutton        4\n",
       "Holder        5\n",
       "Carter        5\n",
       "Vincent       5\n",
       "Porter        5\n",
       "dtype: int64"
      ]
     },
     "execution_count": 30,
     "metadata": {},
     "output_type": "execute_result"
    }
   ],
   "source": [
    "condition_5 = grades.isin([4, 5, 9])\n",
    "grades[condition_5]"
   ]
  },
  {
   "cell_type": "markdown",
   "id": "4a0f168a",
   "metadata": {},
   "source": [
    "## Dropping and adding data"
   ]
  },
  {
   "cell_type": "code",
   "execution_count": 36,
   "id": "eacdf87b",
   "metadata": {},
   "outputs": [
    {
     "name": "stdout",
     "output_type": "stream",
     "text": [
      "Lara           5\n",
      "Calderon       9\n",
      "Preston        6\n",
      "Steele         4\n",
      "Kramer         7\n",
      "Mccormick     10\n",
      "Rasmussen      5\n",
      "Myers          8\n",
      "Buckley        6\n",
      "Solis          7\n",
      "Haynes         7\n",
      "Crawford       6\n",
      "Rose          10\n",
      "Baker          9\n",
      "Mosley         6\n",
      "Lin            7\n",
      "Johnson        5\n",
      "Russo          9\n",
      "Mann           6\n",
      "Ramirez        9\n",
      "Munoz          6\n",
      "Cunningham     5\n",
      "Marks          7\n",
      "David         10\n",
      "Schmitt       10\n",
      "Carlson        5\n",
      "Mckenzie       7\n",
      "Levy           8\n",
      "Knight         7\n",
      "Zuniga         4\n",
      "Francis        8\n",
      "Sutton         4\n",
      "Holder         5\n",
      "Carroll        6\n",
      "Frost          8\n",
      "Henry          6\n",
      "Archer        10\n",
      "dtype: int64\n"
     ]
    }
   ],
   "source": [
    "grades = grades.drop(['Carter', 'Vincent', 'Porter'])\n",
    "print(grades)"
   ]
  },
  {
   "cell_type": "code",
   "execution_count": 34,
   "id": "dcd216c0",
   "metadata": {},
   "outputs": [
    {
     "data": {
      "text/plain": [
       "Lara           5\n",
       "Calderon       9\n",
       "Preston        6\n",
       "Steele         4\n",
       "Kramer         7\n",
       "Mccormick     10\n",
       "Rasmussen      5\n",
       "Myers          8\n",
       "Buckley        6\n",
       "Solis          7\n",
       "Haynes         7\n",
       "Crawford       6\n",
       "Rose          10\n",
       "Baker          9\n",
       "Mosley         6\n",
       "Lin            7\n",
       "Johnson        5\n",
       "Russo          9\n",
       "Mann           6\n",
       "Ramirez        9\n",
       "Munoz          6\n",
       "Cunningham     5\n",
       "Marks          7\n",
       "David         10\n",
       "Schmitt       10\n",
       "Carlson        5\n",
       "Mckenzie       7\n",
       "Levy           8\n",
       "Knight         7\n",
       "Zuniga         4\n",
       "Francis        8\n",
       "Sutton         4\n",
       "Holder         5\n",
       "Carroll        6\n",
       "Frost          8\n",
       "Henry          6\n",
       "Archer        10\n",
       "Carter         5\n",
       "dtype: int64"
      ]
     },
     "execution_count": 34,
     "metadata": {},
     "output_type": "execute_result"
    }
   ],
   "source": [
    "grades['Carter'] = 5\n",
    "grades"
   ]
  },
  {
   "cell_type": "markdown",
   "id": "52a62859",
   "metadata": {},
   "source": [
    "To append multiple items, we need them to be in the Series format:\n"
   ]
  },
  {
   "cell_type": "code",
   "execution_count": 40,
   "id": "93c2cbc0",
   "metadata": {},
   "outputs": [],
   "source": [
    "to_append = pd.Series([5, 5], index = ['Vincent', 'Porter'])\n",
    "pd.concat([grades, to_append])"
   ]
  },
  {
   "cell_type": "code",
   "execution_count": 41,
   "id": "21678ae3",
   "metadata": {},
   "outputs": [
    {
     "name": "stdout",
     "output_type": "stream",
     "text": [
      "Lara           5\n",
      "Calderon       9\n",
      "Preston        6\n",
      "Steele         4\n",
      "Kramer         7\n",
      "Mccormick     10\n",
      "Rasmussen      5\n",
      "Myers          8\n",
      "Buckley        6\n",
      "Solis          7\n",
      "Haynes         7\n",
      "Crawford       6\n",
      "Rose          10\n",
      "Baker          9\n",
      "Mosley         6\n",
      "Lin            7\n",
      "Johnson        5\n",
      "Russo          9\n",
      "Mann           6\n",
      "Ramirez        9\n",
      "Munoz          6\n",
      "Cunningham     5\n",
      "Marks          7\n",
      "David         10\n",
      "Schmitt       10\n",
      "Carlson        5\n",
      "Mckenzie       7\n",
      "Levy           8\n",
      "Knight         7\n",
      "Zuniga         4\n",
      "Francis        8\n",
      "Sutton         4\n",
      "Holder         5\n",
      "Carroll        6\n",
      "Frost          8\n",
      "Henry          6\n",
      "Archer        10\n",
      "dtype: int64\n"
     ]
    }
   ],
   "source": [
    "print(grades)"
   ]
  },
  {
   "cell_type": "markdown",
   "id": "8ab378a5",
   "metadata": {},
   "source": [
    "## Fancier tools"
   ]
  },
  {
   "cell_type": "code",
   "execution_count": 42,
   "id": "d9da7f01",
   "metadata": {},
   "outputs": [
    {
     "name": "stdout",
     "output_type": "stream",
     "text": [
      "6.945945945945946\n",
      "10\n",
      "4\n",
      "1.8551122449710264\n"
     ]
    }
   ],
   "source": [
    "print(grades.mean())\n",
    "print(grades.max())\n",
    "print(grades.min())\n",
    "print(grades.std())"
   ]
  },
  {
   "cell_type": "code",
   "execution_count": 43,
   "id": "bffa1615",
   "metadata": {},
   "outputs": [
    {
     "data": {
      "text/plain": [
       "0.25    6.0\n",
       "0.50    7.0\n",
       "0.75    8.0\n",
       "dtype: float64"
      ]
     },
     "execution_count": 43,
     "metadata": {},
     "output_type": "execute_result"
    }
   ],
   "source": [
    "grades.quantile([.25, .5, .75])"
   ]
  },
  {
   "cell_type": "markdown",
   "id": "36ad7a7f",
   "metadata": {},
   "source": [
    "How about a tool that does all the above?"
   ]
  },
  {
   "cell_type": "code",
   "execution_count": 44,
   "id": "734d7f03",
   "metadata": {},
   "outputs": [
    {
     "data": {
      "text/plain": [
       "count    37.000000\n",
       "mean      6.945946\n",
       "std       1.855112\n",
       "min       4.000000\n",
       "25%       6.000000\n",
       "50%       7.000000\n",
       "75%       8.000000\n",
       "max      10.000000\n",
       "dtype: float64"
      ]
     },
     "execution_count": 44,
     "metadata": {},
     "output_type": "execute_result"
    }
   ],
   "source": [
    "grades.describe()"
   ]
  },
  {
   "cell_type": "markdown",
   "id": "3abdbddf",
   "metadata": {},
   "source": [
    "Plotting is also easy with pandas:"
   ]
  },
  {
   "cell_type": "code",
   "execution_count": 45,
   "id": "6188d5d7",
   "metadata": {},
   "outputs": [
    {
     "data": {
      "text/plain": [
       "<AxesSubplot:>"
      ]
     },
     "execution_count": 45,
     "metadata": {},
     "output_type": "execute_result"
    },
    {
     "data": {
      "image/png": "[encoded data removed]",
      "text/plain": [
       "<Figure size 432x288 with 1 Axes>"
      ]
     },
     "metadata": {
      "needs_background": "light"
     },
     "output_type": "display_data"
    }
   ],
   "source": [
    "grades.plot()"
   ]
  },
  {
   "cell_type": "markdown",
   "id": "b8a6fd37",
   "metadata": {},
   "source": [
    "But the default plot is not the most appropriate here. Let's try a few more."
   ]
  },
  {
   "cell_type": "code",
   "execution_count": 46,
   "id": "394cdbda",
   "metadata": {},
   "outputs": [
    {
     "data": {
      "text/plain": [
       "<AxesSubplot:>"
      ]
     },
     "execution_count": 46,
     "metadata": {},
     "output_type": "execute_result"
    },
    {
     "data": {
      "image/png": "[encoded data removed]",
      "text/plain": [
       "<Figure size 432x288 with 1 Axes>"
      ]
     },
     "metadata": {
      "needs_background": "light"
     },
     "output_type": "display_data"
    }
   ],
   "source": [
    "grades.plot.bar()"
   ]
  },
  {
   "cell_type": "code",
   "execution_count": 47,
   "id": "757e674e",
   "metadata": {},
   "outputs": [
    {
     "data": {
      "text/plain": [
       "<AxesSubplot:>"
      ]
     },
     "execution_count": 47,
     "metadata": {},
     "output_type": "execute_result"
    },
    {
     "data": {
      "image/png": "[encoded data removed]",
      "text/plain": [
       "<Figure size 432x288 with 1 Axes>"
      ]
     },
     "metadata": {
      "needs_background": "light"
     },
     "output_type": "display_data"
    }
   ],
   "source": [
    "grades.sort_values().plot.bar()"
   ]
  },
  {
   "cell_type": "code",
   "execution_count": 48,
   "id": "ce017d68",
   "metadata": {},
   "outputs": [
    {
     "data": {
      "text/plain": [
       "<AxesSubplot:>"
      ]
     },
     "execution_count": 48,
     "metadata": {},
     "output_type": "execute_result"
    },
    {
     "data": {
      "image/png": "[encoded data removed]",
      "text/plain": [
       "<Figure size 432x288 with 1 Axes>"
      ]
     },
     "metadata": {
      "needs_background": "light"
     },
     "output_type": "display_data"
    }
   ],
   "source": [
    "grades.plot.box()"
   ]
  },
  {
   "cell_type": "code",
   "execution_count": 49,
   "id": "6831ae3c",
   "metadata": {},
   "outputs": [
    {
     "data": {
      "text/plain": [
       "<AxesSubplot:ylabel='Frequency'>"
      ]
     },
     "execution_count": 49,
     "metadata": {},
     "output_type": "execute_result"
    },
    {
     "data": {
      "image/png": "[encoded data removed]",
      "text/plain": [
       "<Figure size 432x288 with 1 Axes>"
      ]
     },
     "metadata": {
      "needs_background": "light"
     },
     "output_type": "display_data"
    }
   ],
   "source": [
    "grades.plot.hist(bins=7)"
   ]
  }
 ],
 "metadata": {
  "kernelspec": {
   "display_name": "Python 3 (ipykernel)",
   "language": "python",
   "name": "python3"
  },
  "language_info": {
   "codemirror_mode": {
    "name": "ipython",
    "version": 3
   },
   "file_extension": ".py",
   "mimetype": "text/x-python",
   "name": "python",
   "nbconvert_exporter": "python",
   "pygments_lexer": "ipython3",
   "version": "3.10.4"
  }
 },
 "nbformat": 4,
 "nbformat_minor": 5
}
